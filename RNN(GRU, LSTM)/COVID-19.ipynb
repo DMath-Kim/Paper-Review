{
 "cells": [
  {
   "cell_type": "code",
   "execution_count": 1,
   "id": "eac747be",
   "metadata": {},
   "outputs": [
    {
     "name": "stderr",
     "output_type": "stream",
     "text": [
      "<ipython-input-1-91d110bb841d>:24: FutureWarning: The pandas.datetime class is deprecated and will be removed from pandas in a future version. Import from datetime module instead.\n",
      "  from pandas import datetime\n"
     ]
    }
   ],
   "source": [
    "# reference by\n",
    "# https://github.com/mahdibidar/CoronaVirusDailyNewCasesForecasting/blob/master/CoronaVirusDailyNewCasesForecasting.ipynb\n",
    "\n",
    "from sklearn.preprocessing import MinMaxScaler\n",
    "from keras.models import Sequential\n",
    "from keras.layers import Dense, LSTM, Dropout, GRU, Bidirectional\n",
    "from tensorflow.keras.optimizers import SGD\n",
    "import math\n",
    "from sklearn.metrics import mean_squared_error, mean_absolute_error\n",
    "from sklearn.linear_model import LinearRegression\n",
    "from sklearn.neighbors import KNeighborsRegressor\n",
    "import seaborn as sns\n",
    "import keras\n",
    "from sklearn import linear_model\n",
    "import torch \n",
    "import os\n",
    "import numpy as np\n",
    "import pandas as pd\n",
    "import tqdm as tqdm\n",
    "import seaborn as sns\n",
    "from pylab import rcParams\n",
    "import matplotlib.pyplot as plt\n",
    "import matplotlib as rc\n",
    "from sklearn.preprocessing import MinMaxScaler\n",
    "from pandas.plotting import register_matplotlib_converters\n",
    "from pandas.plotting import lag_plot\n",
    "from pandas import datetime\n",
    "from sklearn.metrics import mean_squared_error"
   ]
  },
  {
   "cell_type": "code",
   "execution_count": 6,
   "id": "65e654eb",
   "metadata": {},
   "outputs": [
    {
     "data": {
      "text/html": [
       "<div>\n",
       "<style scoped>\n",
       "    .dataframe tbody tr th:only-of-type {\n",
       "        vertical-align: middle;\n",
       "    }\n",
       "\n",
       "    .dataframe tbody tr th {\n",
       "        vertical-align: top;\n",
       "    }\n",
       "\n",
       "    .dataframe thead th {\n",
       "        text-align: right;\n",
       "    }\n",
       "</style>\n",
       "<table border=\"1\" class=\"dataframe\">\n",
       "  <thead>\n",
       "    <tr style=\"text-align: right;\">\n",
       "      <th></th>\n",
       "      <th>Province/State</th>\n",
       "      <th>Country/Region</th>\n",
       "      <th>Lat</th>\n",
       "      <th>Long</th>\n",
       "      <th>1/22/20</th>\n",
       "      <th>1/23/20</th>\n",
       "      <th>1/24/20</th>\n",
       "      <th>1/25/20</th>\n",
       "      <th>1/26/20</th>\n",
       "      <th>1/27/20</th>\n",
       "      <th>...</th>\n",
       "      <th>6/14/20</th>\n",
       "      <th>6/15/20</th>\n",
       "      <th>6/16/20</th>\n",
       "      <th>6/17/20</th>\n",
       "      <th>6/18/20</th>\n",
       "      <th>6/19/20</th>\n",
       "      <th>6/20/20</th>\n",
       "      <th>6/21/20</th>\n",
       "      <th>6/22/20</th>\n",
       "      <th>6/23/20</th>\n",
       "    </tr>\n",
       "  </thead>\n",
       "  <tbody>\n",
       "    <tr>\n",
       "      <th>0</th>\n",
       "      <td>NaN</td>\n",
       "      <td>Afghanistan</td>\n",
       "      <td>33.0000</td>\n",
       "      <td>65.0000</td>\n",
       "      <td>0</td>\n",
       "      <td>0</td>\n",
       "      <td>0</td>\n",
       "      <td>0</td>\n",
       "      <td>0</td>\n",
       "      <td>0</td>\n",
       "      <td>...</td>\n",
       "      <td>24766</td>\n",
       "      <td>25527</td>\n",
       "      <td>26310</td>\n",
       "      <td>26874</td>\n",
       "      <td>27532</td>\n",
       "      <td>27878</td>\n",
       "      <td>28424</td>\n",
       "      <td>28833</td>\n",
       "      <td>29157</td>\n",
       "      <td>29481</td>\n",
       "    </tr>\n",
       "    <tr>\n",
       "      <th>1</th>\n",
       "      <td>NaN</td>\n",
       "      <td>Albania</td>\n",
       "      <td>41.1533</td>\n",
       "      <td>20.1683</td>\n",
       "      <td>0</td>\n",
       "      <td>0</td>\n",
       "      <td>0</td>\n",
       "      <td>0</td>\n",
       "      <td>0</td>\n",
       "      <td>0</td>\n",
       "      <td>...</td>\n",
       "      <td>1521</td>\n",
       "      <td>1590</td>\n",
       "      <td>1672</td>\n",
       "      <td>1722</td>\n",
       "      <td>1788</td>\n",
       "      <td>1838</td>\n",
       "      <td>1891</td>\n",
       "      <td>1962</td>\n",
       "      <td>1995</td>\n",
       "      <td>2047</td>\n",
       "    </tr>\n",
       "    <tr>\n",
       "      <th>2</th>\n",
       "      <td>NaN</td>\n",
       "      <td>Algeria</td>\n",
       "      <td>28.0339</td>\n",
       "      <td>1.6596</td>\n",
       "      <td>0</td>\n",
       "      <td>0</td>\n",
       "      <td>0</td>\n",
       "      <td>0</td>\n",
       "      <td>0</td>\n",
       "      <td>0</td>\n",
       "      <td>...</td>\n",
       "      <td>10919</td>\n",
       "      <td>11031</td>\n",
       "      <td>11147</td>\n",
       "      <td>11268</td>\n",
       "      <td>11385</td>\n",
       "      <td>11504</td>\n",
       "      <td>11631</td>\n",
       "      <td>11771</td>\n",
       "      <td>11920</td>\n",
       "      <td>12076</td>\n",
       "    </tr>\n",
       "    <tr>\n",
       "      <th>3</th>\n",
       "      <td>NaN</td>\n",
       "      <td>Andorra</td>\n",
       "      <td>42.5063</td>\n",
       "      <td>1.5218</td>\n",
       "      <td>0</td>\n",
       "      <td>0</td>\n",
       "      <td>0</td>\n",
       "      <td>0</td>\n",
       "      <td>0</td>\n",
       "      <td>0</td>\n",
       "      <td>...</td>\n",
       "      <td>853</td>\n",
       "      <td>853</td>\n",
       "      <td>854</td>\n",
       "      <td>854</td>\n",
       "      <td>855</td>\n",
       "      <td>855</td>\n",
       "      <td>855</td>\n",
       "      <td>855</td>\n",
       "      <td>855</td>\n",
       "      <td>855</td>\n",
       "    </tr>\n",
       "    <tr>\n",
       "      <th>4</th>\n",
       "      <td>NaN</td>\n",
       "      <td>Angola</td>\n",
       "      <td>-11.2027</td>\n",
       "      <td>17.8739</td>\n",
       "      <td>0</td>\n",
       "      <td>0</td>\n",
       "      <td>0</td>\n",
       "      <td>0</td>\n",
       "      <td>0</td>\n",
       "      <td>0</td>\n",
       "      <td>...</td>\n",
       "      <td>140</td>\n",
       "      <td>142</td>\n",
       "      <td>148</td>\n",
       "      <td>155</td>\n",
       "      <td>166</td>\n",
       "      <td>172</td>\n",
       "      <td>176</td>\n",
       "      <td>183</td>\n",
       "      <td>186</td>\n",
       "      <td>189</td>\n",
       "    </tr>\n",
       "  </tbody>\n",
       "</table>\n",
       "<p>5 rows × 158 columns</p>\n",
       "</div>"
      ],
      "text/plain": [
       "  Province/State Country/Region      Lat     Long  1/22/20  1/23/20  1/24/20  \\\n",
       "0            NaN    Afghanistan  33.0000  65.0000        0        0        0   \n",
       "1            NaN        Albania  41.1533  20.1683        0        0        0   \n",
       "2            NaN        Algeria  28.0339   1.6596        0        0        0   \n",
       "3            NaN        Andorra  42.5063   1.5218        0        0        0   \n",
       "4            NaN         Angola -11.2027  17.8739        0        0        0   \n",
       "\n",
       "   1/25/20  1/26/20  1/27/20  ...  6/14/20  6/15/20  6/16/20  6/17/20  \\\n",
       "0        0        0        0  ...    24766    25527    26310    26874   \n",
       "1        0        0        0  ...     1521     1590     1672     1722   \n",
       "2        0        0        0  ...    10919    11031    11147    11268   \n",
       "3        0        0        0  ...      853      853      854      854   \n",
       "4        0        0        0  ...      140      142      148      155   \n",
       "\n",
       "   6/18/20  6/19/20  6/20/20  6/21/20  6/22/20  6/23/20  \n",
       "0    27532    27878    28424    28833    29157    29481  \n",
       "1     1788     1838     1891     1962     1995     2047  \n",
       "2    11385    11504    11631    11771    11920    12076  \n",
       "3      855      855      855      855      855      855  \n",
       "4      166      172      176      183      186      189  \n",
       "\n",
       "[5 rows x 158 columns]"
      ]
     },
     "execution_count": 6,
     "metadata": {},
     "output_type": "execute_result"
    }
   ],
   "source": [
    "df = pd.read_csv('time_series_covid19_confirmed_global.csv')\n",
    "df.head()"
   ]
  },
  {
   "cell_type": "code",
   "execution_count": 13,
   "id": "afaa966e",
   "metadata": {},
   "outputs": [],
   "source": [
    "df1 = df.groupby(['Country/Region']).sum()"
   ]
  },
  {
   "cell_type": "code",
   "execution_count": 14,
   "id": "a74a7b0d",
   "metadata": {},
   "outputs": [
    {
     "data": {
      "text/html": [
       "<div>\n",
       "<style scoped>\n",
       "    .dataframe tbody tr th:only-of-type {\n",
       "        vertical-align: middle;\n",
       "    }\n",
       "\n",
       "    .dataframe tbody tr th {\n",
       "        vertical-align: top;\n",
       "    }\n",
       "\n",
       "    .dataframe thead th {\n",
       "        text-align: right;\n",
       "    }\n",
       "</style>\n",
       "<table border=\"1\" class=\"dataframe\">\n",
       "  <thead>\n",
       "    <tr style=\"text-align: right;\">\n",
       "      <th></th>\n",
       "      <th>Lat</th>\n",
       "      <th>Long</th>\n",
       "      <th>1/22/20</th>\n",
       "      <th>1/23/20</th>\n",
       "      <th>1/24/20</th>\n",
       "      <th>1/25/20</th>\n",
       "      <th>1/26/20</th>\n",
       "      <th>1/27/20</th>\n",
       "      <th>1/28/20</th>\n",
       "      <th>1/29/20</th>\n",
       "      <th>...</th>\n",
       "      <th>6/14/20</th>\n",
       "      <th>6/15/20</th>\n",
       "      <th>6/16/20</th>\n",
       "      <th>6/17/20</th>\n",
       "      <th>6/18/20</th>\n",
       "      <th>6/19/20</th>\n",
       "      <th>6/20/20</th>\n",
       "      <th>6/21/20</th>\n",
       "      <th>6/22/20</th>\n",
       "      <th>6/23/20</th>\n",
       "    </tr>\n",
       "    <tr>\n",
       "      <th>Country/Region</th>\n",
       "      <th></th>\n",
       "      <th></th>\n",
       "      <th></th>\n",
       "      <th></th>\n",
       "      <th></th>\n",
       "      <th></th>\n",
       "      <th></th>\n",
       "      <th></th>\n",
       "      <th></th>\n",
       "      <th></th>\n",
       "      <th></th>\n",
       "      <th></th>\n",
       "      <th></th>\n",
       "      <th></th>\n",
       "      <th></th>\n",
       "      <th></th>\n",
       "      <th></th>\n",
       "      <th></th>\n",
       "      <th></th>\n",
       "      <th></th>\n",
       "      <th></th>\n",
       "    </tr>\n",
       "  </thead>\n",
       "  <tbody>\n",
       "    <tr>\n",
       "      <th>Afghanistan</th>\n",
       "      <td>33.0000</td>\n",
       "      <td>65.0000</td>\n",
       "      <td>0</td>\n",
       "      <td>0</td>\n",
       "      <td>0</td>\n",
       "      <td>0</td>\n",
       "      <td>0</td>\n",
       "      <td>0</td>\n",
       "      <td>0</td>\n",
       "      <td>0</td>\n",
       "      <td>...</td>\n",
       "      <td>24766</td>\n",
       "      <td>25527</td>\n",
       "      <td>26310</td>\n",
       "      <td>26874</td>\n",
       "      <td>27532</td>\n",
       "      <td>27878</td>\n",
       "      <td>28424</td>\n",
       "      <td>28833</td>\n",
       "      <td>29157</td>\n",
       "      <td>29481</td>\n",
       "    </tr>\n",
       "    <tr>\n",
       "      <th>Albania</th>\n",
       "      <td>41.1533</td>\n",
       "      <td>20.1683</td>\n",
       "      <td>0</td>\n",
       "      <td>0</td>\n",
       "      <td>0</td>\n",
       "      <td>0</td>\n",
       "      <td>0</td>\n",
       "      <td>0</td>\n",
       "      <td>0</td>\n",
       "      <td>0</td>\n",
       "      <td>...</td>\n",
       "      <td>1521</td>\n",
       "      <td>1590</td>\n",
       "      <td>1672</td>\n",
       "      <td>1722</td>\n",
       "      <td>1788</td>\n",
       "      <td>1838</td>\n",
       "      <td>1891</td>\n",
       "      <td>1962</td>\n",
       "      <td>1995</td>\n",
       "      <td>2047</td>\n",
       "    </tr>\n",
       "    <tr>\n",
       "      <th>Algeria</th>\n",
       "      <td>28.0339</td>\n",
       "      <td>1.6596</td>\n",
       "      <td>0</td>\n",
       "      <td>0</td>\n",
       "      <td>0</td>\n",
       "      <td>0</td>\n",
       "      <td>0</td>\n",
       "      <td>0</td>\n",
       "      <td>0</td>\n",
       "      <td>0</td>\n",
       "      <td>...</td>\n",
       "      <td>10919</td>\n",
       "      <td>11031</td>\n",
       "      <td>11147</td>\n",
       "      <td>11268</td>\n",
       "      <td>11385</td>\n",
       "      <td>11504</td>\n",
       "      <td>11631</td>\n",
       "      <td>11771</td>\n",
       "      <td>11920</td>\n",
       "      <td>12076</td>\n",
       "    </tr>\n",
       "    <tr>\n",
       "      <th>Andorra</th>\n",
       "      <td>42.5063</td>\n",
       "      <td>1.5218</td>\n",
       "      <td>0</td>\n",
       "      <td>0</td>\n",
       "      <td>0</td>\n",
       "      <td>0</td>\n",
       "      <td>0</td>\n",
       "      <td>0</td>\n",
       "      <td>0</td>\n",
       "      <td>0</td>\n",
       "      <td>...</td>\n",
       "      <td>853</td>\n",
       "      <td>853</td>\n",
       "      <td>854</td>\n",
       "      <td>854</td>\n",
       "      <td>855</td>\n",
       "      <td>855</td>\n",
       "      <td>855</td>\n",
       "      <td>855</td>\n",
       "      <td>855</td>\n",
       "      <td>855</td>\n",
       "    </tr>\n",
       "    <tr>\n",
       "      <th>Angola</th>\n",
       "      <td>-11.2027</td>\n",
       "      <td>17.8739</td>\n",
       "      <td>0</td>\n",
       "      <td>0</td>\n",
       "      <td>0</td>\n",
       "      <td>0</td>\n",
       "      <td>0</td>\n",
       "      <td>0</td>\n",
       "      <td>0</td>\n",
       "      <td>0</td>\n",
       "      <td>...</td>\n",
       "      <td>140</td>\n",
       "      <td>142</td>\n",
       "      <td>148</td>\n",
       "      <td>155</td>\n",
       "      <td>166</td>\n",
       "      <td>172</td>\n",
       "      <td>176</td>\n",
       "      <td>183</td>\n",
       "      <td>186</td>\n",
       "      <td>189</td>\n",
       "    </tr>\n",
       "  </tbody>\n",
       "</table>\n",
       "<p>5 rows × 156 columns</p>\n",
       "</div>"
      ],
      "text/plain": [
       "                    Lat     Long  1/22/20  1/23/20  1/24/20  1/25/20  1/26/20  \\\n",
       "Country/Region                                                                  \n",
       "Afghanistan     33.0000  65.0000        0        0        0        0        0   \n",
       "Albania         41.1533  20.1683        0        0        0        0        0   \n",
       "Algeria         28.0339   1.6596        0        0        0        0        0   \n",
       "Andorra         42.5063   1.5218        0        0        0        0        0   \n",
       "Angola         -11.2027  17.8739        0        0        0        0        0   \n",
       "\n",
       "                1/27/20  1/28/20  1/29/20  ...  6/14/20  6/15/20  6/16/20  \\\n",
       "Country/Region                             ...                              \n",
       "Afghanistan           0        0        0  ...    24766    25527    26310   \n",
       "Albania               0        0        0  ...     1521     1590     1672   \n",
       "Algeria               0        0        0  ...    10919    11031    11147   \n",
       "Andorra               0        0        0  ...      853      853      854   \n",
       "Angola                0        0        0  ...      140      142      148   \n",
       "\n",
       "                6/17/20  6/18/20  6/19/20  6/20/20  6/21/20  6/22/20  6/23/20  \n",
       "Country/Region                                                                 \n",
       "Afghanistan       26874    27532    27878    28424    28833    29157    29481  \n",
       "Albania            1722     1788     1838     1891     1962     1995     2047  \n",
       "Algeria           11268    11385    11504    11631    11771    11920    12076  \n",
       "Andorra             854      855      855      855      855      855      855  \n",
       "Angola              155      166      172      176      183      186      189  \n",
       "\n",
       "[5 rows x 156 columns]"
      ]
     },
     "execution_count": 14,
     "metadata": {},
     "output_type": "execute_result"
    }
   ],
   "source": [
    "df1.head()"
   ]
  },
  {
   "cell_type": "code",
   "execution_count": 16,
   "id": "d8709218",
   "metadata": {},
   "outputs": [
    {
     "name": "stdout",
     "output_type": "stream",
     "text": [
      "The shape of df is (266, 158)\n",
      "The shape of the df1 is (188, 156)\n"
     ]
    }
   ],
   "source": [
    "index = df1.index\n",
    "print(\"The shape of df is\", df.shape)\n",
    "print(\"The shape of the df1 is\", df1.shape)"
   ]
  },
  {
   "cell_type": "code",
   "execution_count": 17,
   "id": "7fc79001",
   "metadata": {},
   "outputs": [
    {
     "data": {
      "image/png": "[encoded data removed]",
      "text/plain": [
       "<Figure size 432x288 with 1 Axes>"
      ]
     },
     "metadata": {
      "needs_background": "light"
     },
     "output_type": "display_data"
    },
    {
     "data": {
      "image/png": "[encoded data removed]",
      "text/plain": [
       "<Figure size 432x288 with 1 Axes>"
      ]
     },
     "metadata": {
      "needs_background": "light"
     },
     "output_type": "display_data"
    },
    {
     "data": {
      "image/png": "[encoded data removed]",
      "text/plain": [
       "<Figure size 432x288 with 1 Axes>"
      ]
     },
     "metadata": {
      "needs_background": "light"
     },
     "output_type": "display_data"
    },
    {
     "data": {
      "image/png": "[encoded data removed]",
      "text/plain": [
       "<Figure size 432x288 with 1 Axes>"
      ]
     },
     "metadata": {
      "needs_background": "light"
     },
     "output_type": "display_data"
    }
   ],
   "source": [
    "DF = {}\n",
    "RND = {}\n",
    "\n",
    "values = np.random.randint(4, 188, 4)\n",
    "\n",
    "for i, rnd in enumerate(values):\n",
    "    DF[i] = df1.iloc[rnd, 2:]\n",
    "    RND[i] = index[rnd]\n",
    "    \n",
    "for i in range(len(DF)):\n",
    "    plt.plot(DF[i], label=RND[i])\n",
    "    plt.title('Cumulative daily cases in ' + RND[i])\n",
    "    plt.show()"
   ]
  },
  {
   "cell_type": "code",
   "execution_count": 18,
   "id": "2233f1bd",
   "metadata": {},
   "outputs": [
    {
     "data": {
      "text/html": [
       "<div>\n",
       "<style scoped>\n",
       "    .dataframe tbody tr th:only-of-type {\n",
       "        vertical-align: middle;\n",
       "    }\n",
       "\n",
       "    .dataframe tbody tr th {\n",
       "        vertical-align: top;\n",
       "    }\n",
       "\n",
       "    .dataframe thead th {\n",
       "        text-align: right;\n",
       "    }\n",
       "</style>\n",
       "<table border=\"1\" class=\"dataframe\">\n",
       "  <thead>\n",
       "    <tr style=\"text-align: right;\">\n",
       "      <th></th>\n",
       "      <th>1/22/20</th>\n",
       "      <th>1/23/20</th>\n",
       "      <th>1/24/20</th>\n",
       "      <th>1/25/20</th>\n",
       "      <th>1/26/20</th>\n",
       "      <th>1/27/20</th>\n",
       "      <th>1/28/20</th>\n",
       "      <th>1/29/20</th>\n",
       "      <th>1/30/20</th>\n",
       "      <th>1/31/20</th>\n",
       "      <th>...</th>\n",
       "      <th>6/14/20</th>\n",
       "      <th>6/15/20</th>\n",
       "      <th>6/16/20</th>\n",
       "      <th>6/17/20</th>\n",
       "      <th>6/18/20</th>\n",
       "      <th>6/19/20</th>\n",
       "      <th>6/20/20</th>\n",
       "      <th>6/21/20</th>\n",
       "      <th>6/22/20</th>\n",
       "      <th>6/23/20</th>\n",
       "    </tr>\n",
       "    <tr>\n",
       "      <th>Country/Region</th>\n",
       "      <th></th>\n",
       "      <th></th>\n",
       "      <th></th>\n",
       "      <th></th>\n",
       "      <th></th>\n",
       "      <th></th>\n",
       "      <th></th>\n",
       "      <th></th>\n",
       "      <th></th>\n",
       "      <th></th>\n",
       "      <th></th>\n",
       "      <th></th>\n",
       "      <th></th>\n",
       "      <th></th>\n",
       "      <th></th>\n",
       "      <th></th>\n",
       "      <th></th>\n",
       "      <th></th>\n",
       "      <th></th>\n",
       "      <th></th>\n",
       "      <th></th>\n",
       "    </tr>\n",
       "  </thead>\n",
       "  <tbody>\n",
       "    <tr>\n",
       "      <th>Afghanistan</th>\n",
       "      <td>0</td>\n",
       "      <td>0</td>\n",
       "      <td>0</td>\n",
       "      <td>0</td>\n",
       "      <td>0</td>\n",
       "      <td>0</td>\n",
       "      <td>0</td>\n",
       "      <td>0</td>\n",
       "      <td>0</td>\n",
       "      <td>0</td>\n",
       "      <td>...</td>\n",
       "      <td>24766</td>\n",
       "      <td>25527</td>\n",
       "      <td>26310</td>\n",
       "      <td>26874</td>\n",
       "      <td>27532</td>\n",
       "      <td>27878</td>\n",
       "      <td>28424</td>\n",
       "      <td>28833</td>\n",
       "      <td>29157</td>\n",
       "      <td>29481</td>\n",
       "    </tr>\n",
       "    <tr>\n",
       "      <th>Albania</th>\n",
       "      <td>0</td>\n",
       "      <td>0</td>\n",
       "      <td>0</td>\n",
       "      <td>0</td>\n",
       "      <td>0</td>\n",
       "      <td>0</td>\n",
       "      <td>0</td>\n",
       "      <td>0</td>\n",
       "      <td>0</td>\n",
       "      <td>0</td>\n",
       "      <td>...</td>\n",
       "      <td>1521</td>\n",
       "      <td>1590</td>\n",
       "      <td>1672</td>\n",
       "      <td>1722</td>\n",
       "      <td>1788</td>\n",
       "      <td>1838</td>\n",
       "      <td>1891</td>\n",
       "      <td>1962</td>\n",
       "      <td>1995</td>\n",
       "      <td>2047</td>\n",
       "    </tr>\n",
       "    <tr>\n",
       "      <th>Algeria</th>\n",
       "      <td>0</td>\n",
       "      <td>0</td>\n",
       "      <td>0</td>\n",
       "      <td>0</td>\n",
       "      <td>0</td>\n",
       "      <td>0</td>\n",
       "      <td>0</td>\n",
       "      <td>0</td>\n",
       "      <td>0</td>\n",
       "      <td>0</td>\n",
       "      <td>...</td>\n",
       "      <td>10919</td>\n",
       "      <td>11031</td>\n",
       "      <td>11147</td>\n",
       "      <td>11268</td>\n",
       "      <td>11385</td>\n",
       "      <td>11504</td>\n",
       "      <td>11631</td>\n",
       "      <td>11771</td>\n",
       "      <td>11920</td>\n",
       "      <td>12076</td>\n",
       "    </tr>\n",
       "    <tr>\n",
       "      <th>Andorra</th>\n",
       "      <td>0</td>\n",
       "      <td>0</td>\n",
       "      <td>0</td>\n",
       "      <td>0</td>\n",
       "      <td>0</td>\n",
       "      <td>0</td>\n",
       "      <td>0</td>\n",
       "      <td>0</td>\n",
       "      <td>0</td>\n",
       "      <td>0</td>\n",
       "      <td>...</td>\n",
       "      <td>853</td>\n",
       "      <td>853</td>\n",
       "      <td>854</td>\n",
       "      <td>854</td>\n",
       "      <td>855</td>\n",
       "      <td>855</td>\n",
       "      <td>855</td>\n",
       "      <td>855</td>\n",
       "      <td>855</td>\n",
       "      <td>855</td>\n",
       "    </tr>\n",
       "    <tr>\n",
       "      <th>Angola</th>\n",
       "      <td>0</td>\n",
       "      <td>0</td>\n",
       "      <td>0</td>\n",
       "      <td>0</td>\n",
       "      <td>0</td>\n",
       "      <td>0</td>\n",
       "      <td>0</td>\n",
       "      <td>0</td>\n",
       "      <td>0</td>\n",
       "      <td>0</td>\n",
       "      <td>...</td>\n",
       "      <td>140</td>\n",
       "      <td>142</td>\n",
       "      <td>148</td>\n",
       "      <td>155</td>\n",
       "      <td>166</td>\n",
       "      <td>172</td>\n",
       "      <td>176</td>\n",
       "      <td>183</td>\n",
       "      <td>186</td>\n",
       "      <td>189</td>\n",
       "    </tr>\n",
       "  </tbody>\n",
       "</table>\n",
       "<p>5 rows × 154 columns</p>\n",
       "</div>"
      ],
      "text/plain": [
       "                1/22/20  1/23/20  1/24/20  1/25/20  1/26/20  1/27/20  1/28/20  \\\n",
       "Country/Region                                                                  \n",
       "Afghanistan           0        0        0        0        0        0        0   \n",
       "Albania               0        0        0        0        0        0        0   \n",
       "Algeria               0        0        0        0        0        0        0   \n",
       "Andorra               0        0        0        0        0        0        0   \n",
       "Angola                0        0        0        0        0        0        0   \n",
       "\n",
       "                1/29/20  1/30/20  1/31/20  ...  6/14/20  6/15/20  6/16/20  \\\n",
       "Country/Region                             ...                              \n",
       "Afghanistan           0        0        0  ...    24766    25527    26310   \n",
       "Albania               0        0        0  ...     1521     1590     1672   \n",
       "Algeria               0        0        0  ...    10919    11031    11147   \n",
       "Andorra               0        0        0  ...      853      853      854   \n",
       "Angola                0        0        0  ...      140      142      148   \n",
       "\n",
       "                6/17/20  6/18/20  6/19/20  6/20/20  6/21/20  6/22/20  6/23/20  \n",
       "Country/Region                                                                 \n",
       "Afghanistan       26874    27532    27878    28424    28833    29157    29481  \n",
       "Albania            1722     1788     1838     1891     1962     1995     2047  \n",
       "Algeria           11268    11385    11504    11631    11771    11920    12076  \n",
       "Andorra             854      855      855      855      855      855      855  \n",
       "Angola              155      166      172      176      183      186      189  \n",
       "\n",
       "[5 rows x 154 columns]"
      ]
     },
     "execution_count": 18,
     "metadata": {},
     "output_type": "execute_result"
    }
   ],
   "source": [
    "df1 = df1.iloc[:, 2:]\n",
    "df1.head()"
   ]
  },
  {
   "cell_type": "code",
   "execution_count": 19,
   "id": "859ac6bd",
   "metadata": {},
   "outputs": [
    {
     "data": {
      "text/plain": [
       "False"
      ]
     },
     "execution_count": 19,
     "metadata": {},
     "output_type": "execute_result"
    }
   ],
   "source": [
    "df1.isnull().sum().any()"
   ]
  },
  {
   "cell_type": "code",
   "execution_count": 20,
   "id": "a5715362",
   "metadata": {},
   "outputs": [
    {
     "data": {
      "text/plain": [
       "1/22/20     555\n",
       "1/23/20     654\n",
       "1/24/20     941\n",
       "1/25/20    1434\n",
       "1/26/20    2118\n",
       "dtype: int64"
      ]
     },
     "execution_count": 20,
     "metadata": {},
     "output_type": "execute_result"
    }
   ],
   "source": [
    "daily_confirmed_cases = df1.sum(axis=0)\n",
    "daily_confirmed_cases.head()"
   ]
  },
  {
   "cell_type": "code",
   "execution_count": 21,
   "id": "88df7188",
   "metadata": {},
   "outputs": [
    {
     "data": {
      "text/plain": [
       "Index(['1/22/20', '1/23/20', '1/24/20', '1/25/20', '1/26/20', '1/27/20',\n",
       "       '1/28/20', '1/29/20', '1/30/20', '1/31/20',\n",
       "       ...\n",
       "       '6/14/20', '6/15/20', '6/16/20', '6/17/20', '6/18/20', '6/19/20',\n",
       "       '6/20/20', '6/21/20', '6/22/20', '6/23/20'],\n",
       "      dtype='object', length=154)"
      ]
     },
     "execution_count": 21,
     "metadata": {},
     "output_type": "execute_result"
    }
   ],
   "source": [
    "daily_confirmed_cases.index"
   ]
  },
  {
   "cell_type": "code",
   "execution_count": 22,
   "id": "f013ae82",
   "metadata": {},
   "outputs": [],
   "source": [
    "daily_confirmed_cases.index = pd.to_datetime(daily_confirmed_cases.index)"
   ]
  },
  {
   "cell_type": "code",
   "execution_count": 23,
   "id": "b3ae7a1c",
   "metadata": {},
   "outputs": [
    {
     "data": {
      "text/plain": [
       "2020-01-22     555\n",
       "2020-01-23     654\n",
       "2020-01-24     941\n",
       "2020-01-25    1434\n",
       "2020-01-26    2118\n",
       "dtype: int64"
      ]
     },
     "execution_count": 23,
     "metadata": {},
     "output_type": "execute_result"
    }
   ],
   "source": [
    "daily_confirmed_cases.head()"
   ]
  },
  {
   "cell_type": "code",
   "execution_count": 24,
   "id": "6f3ece53",
   "metadata": {},
   "outputs": [
    {
     "data": {
      "image/png": "[encoded data removed]",
      "text/plain": [
       "<Figure size 432x288 with 1 Axes>"
      ]
     },
     "metadata": {
      "needs_background": "light"
     },
     "output_type": "display_data"
    }
   ],
   "source": [
    "plt.plot(daily_confirmed_cases)\n",
    "plt.title(\"Cumulative daily cases\");"
   ]
  },
  {
   "cell_type": "code",
   "execution_count": 25,
   "id": "0775d1ca",
   "metadata": {},
   "outputs": [
    {
     "data": {
      "text/plain": [
       "2020-01-23        99\n",
       "2020-01-24       287\n",
       "2020-01-25       493\n",
       "2020-01-26       684\n",
       "2020-01-27       809\n",
       "               ...  \n",
       "2020-06-19    181347\n",
       "2020-06-20    158863\n",
       "2020-06-21    131421\n",
       "2020-06-22    138036\n",
       "2020-06-23    164823\n",
       "Length: 153, dtype: int64"
      ]
     },
     "execution_count": 25,
     "metadata": {},
     "output_type": "execute_result"
    }
   ],
   "source": [
    "new_cases = daily_confirmed_cases.diff().dropna().astype(np.int64)\n",
    "new_cases"
   ]
  },
  {
   "cell_type": "code",
   "execution_count": 26,
   "id": "3e7af1b6",
   "metadata": {},
   "outputs": [
    {
     "data": {
      "image/png": "[encoded data removed]",
      "text/plain": [
       "<Figure size 432x288 with 1 Axes>"
      ]
     },
     "metadata": {
      "needs_background": "light"
     },
     "output_type": "display_data"
    }
   ],
   "source": [
    "plt.plot(new_cases[1:])\n",
    "plt.title(\"New Cases Every day\");"
   ]
  },
  {
   "cell_type": "code",
   "execution_count": 27,
   "id": "c1f6beb7",
   "metadata": {},
   "outputs": [],
   "source": [
    "def train_test_split(new_cases, pct):\n",
    "    In_n = int(np.ceil(pct*len(new_cases)))\n",
    "    X_train = new_cases[:In_n+1]\n",
    "    X_test = new_cases[In_n:]\n",
    "    return X_train, X_test\n",
    "\n",
    "pct = 0.75\n",
    "train_data, test_data = train_test_split(new_cases, pct)"
   ]
  },
  {
   "cell_type": "code",
   "execution_count": 28,
   "id": "0a5935dc",
   "metadata": {},
   "outputs": [
    {
     "data": {
      "text/plain": [
       "<matplotlib.legend.Legend at 0x20f18d77ca0>"
      ]
     },
     "execution_count": 28,
     "metadata": {},
     "output_type": "execute_result"
    },
    {
     "data": {
      "image/png": "[encoded data removed]",
      "text/plain": [
       "<Figure size 1008x288 with 1 Axes>"
      ]
     },
     "metadata": {
      "needs_background": "light"
     },
     "output_type": "display_data"
    }
   ],
   "source": [
    "plt.figure(figsize=(14,4))\n",
    "plt.plot(train_data)\n",
    "plt.plot(test_data)\n",
    "plt.ylabel(\"Price\")\n",
    "plt.xlabel(\"Date\")\n",
    "plt.legend([\"Training Set\", \"Test Set\"])"
   ]
  },
  {
   "cell_type": "code",
   "execution_count": 29,
   "id": "d60627eb",
   "metadata": {},
   "outputs": [],
   "source": [
    "scaler = MinMaxScaler()\n",
    "scaler = scaler.fit((np.array(train_data)).reshape(-1,1))\n",
    "train_data = scaler.transform((np.array(train_data)).reshape(-1,1))\n",
    "test_data = scaler.transform((np.array(test_data)).reshape(-1,1))"
   ]
  },
  {
   "cell_type": "code",
   "execution_count": 30,
   "id": "76ea9440",
   "metadata": {},
   "outputs": [],
   "source": [
    "X_train = []\n",
    "y_train = []\n",
    "\n",
    "lengthTr = len(train_data)\n",
    "timeStamp = 10\n",
    "\n",
    "for i in range(timeStamp, lengthTr):\n",
    "    X_train.append(train_data[i-timeStamp:i])\n",
    "    y_train.append(train_data[i])\n",
    "    \n",
    "X_train = np.array(X_train)\n",
    "y_train = np.array(y_train)\n",
    "\n",
    "X_test = []\n",
    "y_test = []\n",
    "\n",
    "lengthTe = len(test_data)\n",
    "\n",
    "for i in range(timeStamp, lengthTe):\n",
    "    X_test.append(test_data[i-timeStamp:i])\n",
    "    y_test.append(test_data[i])\n",
    "    \n",
    "X_test = np.array(X_test)\n",
    "y_test = np.array(y_test)"
   ]
  },
  {
   "cell_type": "code",
   "execution_count": 31,
   "id": "7e620ec8",
   "metadata": {},
   "outputs": [
    {
     "name": "stdout",
     "output_type": "stream",
     "text": [
      "Model: \"sequential\"\n",
      "_________________________________________________________________\n",
      "Layer (type)                 Output Shape              Param #   \n",
      "=================================================================\n",
      "lstm (LSTM)                  (None, 10, 30)            3840      \n",
      "_________________________________________________________________\n",
      "dropout (Dropout)            (None, 10, 30)            0         \n",
      "_________________________________________________________________\n",
      "lstm_1 (LSTM)                (None, 10, 20)            4080      \n",
      "_________________________________________________________________\n",
      "dropout_1 (Dropout)          (None, 10, 20)            0         \n",
      "_________________________________________________________________\n",
      "lstm_2 (LSTM)                (None, 10, 20)            3280      \n",
      "_________________________________________________________________\n",
      "dropout_2 (Dropout)          (None, 10, 20)            0         \n",
      "_________________________________________________________________\n",
      "lstm_3 (LSTM)                (None, 20)                3280      \n",
      "_________________________________________________________________\n",
      "dropout_3 (Dropout)          (None, 20)                0         \n",
      "_________________________________________________________________\n",
      "dense (Dense)                (None, 1)                 21        \n",
      "=================================================================\n",
      "Total params: 14,501\n",
      "Trainable params: 14,501\n",
      "Non-trainable params: 0\n",
      "_________________________________________________________________\n"
     ]
    }
   ],
   "source": [
    "model = Sequential([\n",
    "                    keras.layers.LSTM(units=30, return_sequences=True, input_shape=(X_train.shape[1],1)),\n",
    "                    Dropout(0.4),\n",
    "\n",
    "                    keras.layers.LSTM(units=20, return_sequences=True),\n",
    "                    Dropout(0.4),\n",
    "\n",
    "                    keras.layers.LSTM(units=20, return_sequences=True),\n",
    "                    Dropout(0.4),\n",
    "\n",
    "                    keras.layers.LSTM(units=20),\n",
    "                    Dropout(0.4),\n",
    "\n",
    "                    keras.layers.Dense(units=1),\n",
    "                   ])\n",
    "model.summary()"
   ]
  },
  {
   "cell_type": "code",
   "execution_count": 32,
   "id": "78747a83",
   "metadata": {},
   "outputs": [],
   "source": [
    "model.compile(optimizer='rmsprop', loss='mean_squared_error', metrics=['mean_squared_error'])"
   ]
  },
  {
   "cell_type": "code",
   "execution_count": 33,
   "id": "fd707a0c",
   "metadata": {},
   "outputs": [
    {
     "name": "stdout",
     "output_type": "stream",
     "text": [
      "Epoch 1/50\n",
      "1/1 [==============================] - 4s 4s/step - loss: 0.3232 - mean_squared_error: 0.3232\n",
      "Epoch 2/50\n",
      "1/1 [==============================] - 0s 16ms/step - loss: 0.2736 - mean_squared_error: 0.2736\n",
      "Epoch 3/50\n",
      "1/1 [==============================] - 0s 16ms/step - loss: 0.2268 - mean_squared_error: 0.2268\n",
      "Epoch 4/50\n",
      "1/1 [==============================] - 0s 16ms/step - loss: 0.1664 - mean_squared_error: 0.1664\n",
      "Epoch 5/50\n",
      "1/1 [==============================] - 0s 17ms/step - loss: 0.1367 - mean_squared_error: 0.1367\n",
      "Epoch 6/50\n",
      "1/1 [==============================] - 0s 18ms/step - loss: 0.1064 - mean_squared_error: 0.1064\n",
      "Epoch 7/50\n",
      "1/1 [==============================] - 0s 18ms/step - loss: 0.0577 - mean_squared_error: 0.0577\n",
      "Epoch 8/50\n",
      "1/1 [==============================] - 0s 17ms/step - loss: 0.0646 - mean_squared_error: 0.0646\n",
      "Epoch 9/50\n",
      "1/1 [==============================] - 0s 17ms/step - loss: 0.0670 - mean_squared_error: 0.0670\n",
      "Epoch 10/50\n",
      "1/1 [==============================] - 0s 18ms/step - loss: 0.0486 - mean_squared_error: 0.0486\n",
      "Epoch 11/50\n",
      "1/1 [==============================] - 0s 16ms/step - loss: 0.0465 - mean_squared_error: 0.0465\n",
      "Epoch 12/50\n",
      "1/1 [==============================] - 0s 16ms/step - loss: 0.0463 - mean_squared_error: 0.0463\n",
      "Epoch 13/50\n",
      "1/1 [==============================] - 0s 16ms/step - loss: 0.0491 - mean_squared_error: 0.0491\n",
      "Epoch 14/50\n",
      "1/1 [==============================] - 0s 15ms/step - loss: 0.0403 - mean_squared_error: 0.0403\n",
      "Epoch 15/50\n",
      "1/1 [==============================] - 0s 14ms/step - loss: 0.0512 - mean_squared_error: 0.0512\n",
      "Epoch 16/50\n",
      "1/1 [==============================] - 0s 15ms/step - loss: 0.0539 - mean_squared_error: 0.0539\n",
      "Epoch 17/50\n",
      "1/1 [==============================] - 0s 14ms/step - loss: 0.0416 - mean_squared_error: 0.0416\n",
      "Epoch 18/50\n",
      "1/1 [==============================] - 0s 14ms/step - loss: 0.0436 - mean_squared_error: 0.0436\n",
      "Epoch 19/50\n",
      "1/1 [==============================] - 0s 14ms/step - loss: 0.0402 - mean_squared_error: 0.0402\n",
      "Epoch 20/50\n",
      "1/1 [==============================] - 0s 14ms/step - loss: 0.0385 - mean_squared_error: 0.0385\n",
      "Epoch 21/50\n",
      "1/1 [==============================] - 0s 14ms/step - loss: 0.0439 - mean_squared_error: 0.0439\n",
      "Epoch 22/50\n",
      "1/1 [==============================] - 0s 13ms/step - loss: 0.0402 - mean_squared_error: 0.0402\n",
      "Epoch 23/50\n",
      "1/1 [==============================] - 0s 14ms/step - loss: 0.0510 - mean_squared_error: 0.0510\n",
      "Epoch 24/50\n",
      "1/1 [==============================] - 0s 15ms/step - loss: 0.0381 - mean_squared_error: 0.0381\n",
      "Epoch 25/50\n",
      "1/1 [==============================] - 0s 13ms/step - loss: 0.0335 - mean_squared_error: 0.0335\n",
      "Epoch 26/50\n",
      "1/1 [==============================] - 0s 14ms/step - loss: 0.0276 - mean_squared_error: 0.0276\n",
      "Epoch 27/50\n",
      "1/1 [==============================] - 0s 14ms/step - loss: 0.0355 - mean_squared_error: 0.0355\n",
      "Epoch 28/50\n",
      "1/1 [==============================] - 0s 14ms/step - loss: 0.0376 - mean_squared_error: 0.0376\n",
      "Epoch 29/50\n",
      "1/1 [==============================] - 0s 14ms/step - loss: 0.0432 - mean_squared_error: 0.0432\n",
      "Epoch 30/50\n",
      "1/1 [==============================] - 0s 14ms/step - loss: 0.0298 - mean_squared_error: 0.0298\n",
      "Epoch 31/50\n",
      "1/1 [==============================] - 0s 15ms/step - loss: 0.0341 - mean_squared_error: 0.0341\n",
      "Epoch 32/50\n",
      "1/1 [==============================] - 0s 13ms/step - loss: 0.0314 - mean_squared_error: 0.0314\n",
      "Epoch 33/50\n",
      "1/1 [==============================] - 0s 14ms/step - loss: 0.0373 - mean_squared_error: 0.0373\n",
      "Epoch 34/50\n",
      "1/1 [==============================] - 0s 15ms/step - loss: 0.0347 - mean_squared_error: 0.0347\n",
      "Epoch 35/50\n",
      "1/1 [==============================] - 0s 14ms/step - loss: 0.0384 - mean_squared_error: 0.0384\n",
      "Epoch 36/50\n",
      "1/1 [==============================] - 0s 15ms/step - loss: 0.0325 - mean_squared_error: 0.0325\n",
      "Epoch 37/50\n",
      "1/1 [==============================] - 0s 14ms/step - loss: 0.0278 - mean_squared_error: 0.0278\n",
      "Epoch 38/50\n",
      "1/1 [==============================] - 0s 15ms/step - loss: 0.0285 - mean_squared_error: 0.0285\n",
      "Epoch 39/50\n",
      "1/1 [==============================] - 0s 14ms/step - loss: 0.0365 - mean_squared_error: 0.0365\n",
      "Epoch 40/50\n",
      "1/1 [==============================] - 0s 15ms/step - loss: 0.0248 - mean_squared_error: 0.0248\n",
      "Epoch 41/50\n",
      "1/1 [==============================] - 0s 14ms/step - loss: 0.0318 - mean_squared_error: 0.0318\n",
      "Epoch 42/50\n",
      "1/1 [==============================] - 0s 13ms/step - loss: 0.0295 - mean_squared_error: 0.0295\n",
      "Epoch 43/50\n",
      "1/1 [==============================] - 0s 13ms/step - loss: 0.0305 - mean_squared_error: 0.0305\n",
      "Epoch 44/50\n",
      "1/1 [==============================] - 0s 14ms/step - loss: 0.0280 - mean_squared_error: 0.0280\n",
      "Epoch 45/50\n",
      "1/1 [==============================] - 0s 14ms/step - loss: 0.0331 - mean_squared_error: 0.0331\n",
      "Epoch 46/50\n",
      "1/1 [==============================] - 0s 15ms/step - loss: 0.0339 - mean_squared_error: 0.0339\n",
      "Epoch 47/50\n",
      "1/1 [==============================] - 0s 14ms/step - loss: 0.0325 - mean_squared_error: 0.0325\n",
      "Epoch 48/50\n",
      "1/1 [==============================] - 0s 14ms/step - loss: 0.0366 - mean_squared_error: 0.0366\n",
      "Epoch 49/50\n",
      "1/1 [==============================] - 0s 16ms/step - loss: 0.0250 - mean_squared_error: 0.0250\n",
      "Epoch 50/50\n",
      "1/1 [==============================] - 0s 14ms/step - loss: 0.0361 - mean_squared_error: 0.0361\n"
     ]
    },
    {
     "data": {
      "text/plain": [
       "<keras.callbacks.History at 0x20f1860c610>"
      ]
     },
     "execution_count": 33,
     "metadata": {},
     "output_type": "execute_result"
    }
   ],
   "source": [
    "model.fit(X_train, y_train, epochs=50, batch_size=200)"
   ]
  },
  {
   "cell_type": "code",
   "execution_count": 34,
   "id": "95c777a5",
   "metadata": {},
   "outputs": [
    {
     "data": {
      "text/plain": [
       "[<matplotlib.lines.Line2D at 0x20f2cdb4d90>]"
      ]
     },
     "execution_count": 34,
     "metadata": {},
     "output_type": "execute_result"
    },
    {
     "data": {
      "image/png": "[encoded data removed]",
      "text/plain": [
       "<Figure size 1008x432 with 1 Axes>"
      ]
     },
     "metadata": {
      "needs_background": "light"
     },
     "output_type": "display_data"
    }
   ],
   "source": [
    "pred_result = {}\n",
    "\n",
    "y_true = (y_test)\n",
    "y_pred = (model.predict(X_test))\n",
    "MSE = mean_squared_error(y_true, y_pred)\n",
    "pred_result= {}\n",
    "pred_result[\"True\"] = y_true\n",
    "pred_result[\"Pred\"] = y_pred\n",
    "\n",
    "plt.figure(figsize=(14,6))\n",
    "plt.title(\"LSTM with MSE {:10.4f}\".format(MSE))\n",
    "plt.plot(y_true)\n",
    "plt.plot(y_pred)"
   ]
  },
  {
   "cell_type": "code",
   "execution_count": 35,
   "id": "967f874e",
   "metadata": {},
   "outputs": [
    {
     "name": "stderr",
     "output_type": "stream",
     "text": [
      "C:\\Users\\alstj\\anaconda3\\lib\\site-packages\\keras\\optimizer_v2\\optimizer_v2.py:355: UserWarning: The `lr` argument is deprecated, use `learning_rate` instead.\n",
      "  warnings.warn(\n"
     ]
    },
    {
     "name": "stdout",
     "output_type": "stream",
     "text": [
      "Epoch 1/50\n",
      "1/1 [==============================] - 4s 4s/step - loss: 0.3678\n",
      "Epoch 2/50\n",
      "1/1 [==============================] - 0s 22ms/step - loss: 0.3101\n",
      "Epoch 3/50\n",
      "1/1 [==============================] - 0s 21ms/step - loss: 0.2409\n",
      "Epoch 4/50\n",
      "1/1 [==============================] - 0s 22ms/step - loss: 0.1637\n",
      "Epoch 5/50\n",
      "1/1 [==============================] - 0s 24ms/step - loss: 0.1338\n",
      "Epoch 6/50\n",
      "1/1 [==============================] - 0s 26ms/step - loss: 0.1513\n",
      "Epoch 7/50\n",
      "1/1 [==============================] - 0s 23ms/step - loss: 0.1775\n",
      "Epoch 8/50\n",
      "1/1 [==============================] - 0s 23ms/step - loss: 0.2056\n",
      "Epoch 9/50\n",
      "1/1 [==============================] - 0s 24ms/step - loss: 0.2076\n",
      "Epoch 10/50\n",
      "1/1 [==============================] - 0s 23ms/step - loss: 0.1967\n",
      "Epoch 11/50\n",
      "1/1 [==============================] - 0s 21ms/step - loss: 0.1499\n",
      "Epoch 12/50\n",
      "1/1 [==============================] - 0s 20ms/step - loss: 0.1172\n",
      "Epoch 13/50\n",
      "1/1 [==============================] - 0s 19ms/step - loss: 0.1020\n",
      "Epoch 14/50\n",
      "1/1 [==============================] - 0s 19ms/step - loss: 0.0956\n",
      "Epoch 15/50\n",
      "1/1 [==============================] - 0s 19ms/step - loss: 0.1078\n",
      "Epoch 16/50\n",
      "1/1 [==============================] - 0s 18ms/step - loss: 0.1176\n",
      "Epoch 17/50\n",
      "1/1 [==============================] - 0s 20ms/step - loss: 0.1191\n",
      "Epoch 18/50\n",
      "1/1 [==============================] - 0s 20ms/step - loss: 0.1116\n",
      "Epoch 19/50\n",
      "1/1 [==============================] - 0s 23ms/step - loss: 0.0990\n",
      "Epoch 20/50\n",
      "1/1 [==============================] - 0s 21ms/step - loss: 0.0865\n",
      "Epoch 21/50\n",
      "1/1 [==============================] - 0s 21ms/step - loss: 0.0695\n",
      "Epoch 22/50\n",
      "1/1 [==============================] - 0s 21ms/step - loss: 0.0591\n",
      "Epoch 23/50\n",
      "1/1 [==============================] - 0s 21ms/step - loss: 0.0589\n",
      "Epoch 24/50\n",
      "1/1 [==============================] - 0s 19ms/step - loss: 0.0605\n",
      "Epoch 25/50\n",
      "1/1 [==============================] - 0s 19ms/step - loss: 0.0600\n",
      "Epoch 26/50\n",
      "1/1 [==============================] - 0s 19ms/step - loss: 0.0575\n",
      "Epoch 27/50\n",
      "1/1 [==============================] - 0s 19ms/step - loss: 0.0512\n",
      "Epoch 28/50\n",
      "1/1 [==============================] - 0s 18ms/step - loss: 0.0417\n",
      "Epoch 29/50\n",
      "1/1 [==============================] - 0s 18ms/step - loss: 0.0330\n",
      "Epoch 30/50\n",
      "1/1 [==============================] - 0s 20ms/step - loss: 0.0270\n",
      "Epoch 31/50\n",
      "1/1 [==============================] - 0s 20ms/step - loss: 0.0241\n",
      "Epoch 32/50\n",
      "1/1 [==============================] - 0s 20ms/step - loss: 0.0284\n",
      "Epoch 33/50\n",
      "1/1 [==============================] - 0s 20ms/step - loss: 0.0246\n",
      "Epoch 34/50\n",
      "1/1 [==============================] - 0s 21ms/step - loss: 0.0203\n",
      "Epoch 35/50\n",
      "1/1 [==============================] - 0s 21ms/step - loss: 0.0157\n",
      "Epoch 36/50\n",
      "1/1 [==============================] - 0s 20ms/step - loss: 0.0140\n",
      "Epoch 37/50\n",
      "1/1 [==============================] - 0s 20ms/step - loss: 0.0086\n",
      "Epoch 38/50\n",
      "1/1 [==============================] - 0s 20ms/step - loss: 0.0198\n",
      "Epoch 39/50\n",
      "1/1 [==============================] - 0s 20ms/step - loss: 0.0182\n",
      "Epoch 40/50\n",
      "1/1 [==============================] - 0s 21ms/step - loss: 0.0191\n",
      "Epoch 41/50\n",
      "1/1 [==============================] - 0s 22ms/step - loss: 0.0157\n",
      "Epoch 42/50\n",
      "1/1 [==============================] - 0s 21ms/step - loss: 0.0158\n",
      "Epoch 43/50\n",
      "1/1 [==============================] - 0s 22ms/step - loss: 0.0169\n",
      "Epoch 44/50\n",
      "1/1 [==============================] - 0s 21ms/step - loss: 0.0137\n",
      "Epoch 45/50\n",
      "1/1 [==============================] - 0s 21ms/step - loss: 0.0191\n",
      "Epoch 46/50\n",
      "1/1 [==============================] - 0s 21ms/step - loss: 0.0170\n",
      "Epoch 47/50\n",
      "1/1 [==============================] - 0s 21ms/step - loss: 0.0173\n",
      "Epoch 48/50\n",
      "1/1 [==============================] - 0s 21ms/step - loss: 0.0169\n",
      "Epoch 49/50\n",
      "1/1 [==============================] - 0s 21ms/step - loss: 0.0152\n",
      "Epoch 50/50\n",
      "1/1 [==============================] - 0s 21ms/step - loss: 0.0144\n"
     ]
    },
    {
     "data": {
      "text/plain": [
       "<keras.callbacks.History at 0x20f2cf93910>"
      ]
     },
     "execution_count": 35,
     "metadata": {},
     "output_type": "execute_result"
    }
   ],
   "source": [
    "model_GRU= Sequential([\n",
    "                keras.layers.GRU(units=50, return_sequences=True, input_shape=(X_train.shape[1],1), activation='tanh'),\n",
    "                Dropout(0.2),\n",
    "\n",
    "                keras.layers.GRU(units=50, return_sequences=True, input_shape=(X_train.shape[1],1), activation='tanh'),\n",
    "                Dropout(0.2),\n",
    "\n",
    "                keras.layers.GRU(units=50, return_sequences=True, input_shape=(X_train.shape[1],1), activation='tanh'),\n",
    "                Dropout(0.2),\n",
    "\n",
    "                keras.layers.GRU(units=50, activation='tanh'),\n",
    "                Dropout(0.2),\n",
    "\n",
    "                keras.layers.Dense(units=1)])\n",
    "\n",
    "\n",
    "\n",
    "model_GRU.compile(optimizer=SGD(lr=0.01, decay=1e-7, momentum=0.9, nesterov=False),loss='mean_squared_error')\n",
    "\n",
    "model_GRU.fit(X_train, y_train,epochs=50,batch_size=150)"
   ]
  },
  {
   "cell_type": "code",
   "execution_count": 36,
   "id": "0d11d53c",
   "metadata": {},
   "outputs": [
    {
     "data": {
      "text/plain": [
       "[<matplotlib.lines.Line2D at 0x20f37e764f0>]"
      ]
     },
     "execution_count": 36,
     "metadata": {},
     "output_type": "execute_result"
    },
    {
     "data": {
      "image/png": "[encoded data removed]",
      "text/plain": [
       "<Figure size 1008x432 with 1 Axes>"
      ]
     },
     "metadata": {
      "needs_background": "light"
     },
     "output_type": "display_data"
    }
   ],
   "source": [
    "pred_result = {}\n",
    "\n",
    "y_true = (y_test.reshape(-1,1))\n",
    "y_pred = (model_GRU.predict(X_test))\n",
    "MSE = mean_squared_error(y_true, y_pred)\n",
    "pred_result= {}\n",
    "pred_result[\"True\"] = y_true\n",
    "pred_result[\"Pred\"] = y_pred\n",
    "\n",
    "plt.figure(figsize=(14,6))\n",
    "plt.title(\"LSTM with MSE {:10.4f}\".format(MSE))\n",
    "plt.plot(y_true)\n",
    "plt.plot(y_pred)"
   ]
  },
  {
   "cell_type": "code",
   "execution_count": null,
   "id": "59ffe17d",
   "metadata": {},
   "outputs": [],
   "source": []
  }
 ],
 "metadata": {
  "kernelspec": {
   "display_name": "Python 3",
   "language": "python",
   "name": "python3"
  },
  "language_info": {
   "codemirror_mode": {
    "name": "ipython",
    "version": 3
   },
   "file_extension": ".py",
   "mimetype": "text/x-python",
   "name": "python",
   "nbconvert_exporter": "python",
   "pygments_lexer": "ipython3",
   "version": "3.8.8"
  }
 },
 "nbformat": 4,
 "nbformat_minor": 5
}
